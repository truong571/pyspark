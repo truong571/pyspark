{
  "cells": [
    {
      "cell_type": "code",
      "source": [
        "!pip install --upgrade pandas"
      ],
      "metadata": {
        "colab": {
          "base_uri": "https://localhost:8080/"
        },
        "id": "1vno7RF2P9Ha",
        "outputId": "224743f4-a462-4351-e22d-fbe5736c6c42"
      },
      "execution_count": 1,
      "outputs": [
        {
          "output_type": "stream",
          "name": "stdout",
          "text": [
            "Looking in indexes: https://pypi.org/simple, https://us-python.pkg.dev/colab-wheels/public/simple/\n",
            "Requirement already satisfied: pandas in /usr/local/lib/python3.9/dist-packages (1.4.4)\n",
            "Collecting pandas\n",
            "  Downloading pandas-2.0.0-cp39-cp39-manylinux_2_17_x86_64.manylinux2014_x86_64.whl (12.4 MB)\n",
            "\u001b[2K     \u001b[90m━━━━━━━━━━━━━━━━━━━━━━━━━━━━━━━━━━━━━━━\u001b[0m \u001b[32m12.4/12.4 MB\u001b[0m \u001b[31m105.2 MB/s\u001b[0m eta \u001b[36m0:00:00\u001b[0m\n",
            "\u001b[?25hRequirement already satisfied: numpy>=1.20.3 in /usr/local/lib/python3.9/dist-packages (from pandas) (1.22.4)\n",
            "Requirement already satisfied: tzdata>=2022.1 in /usr/local/lib/python3.9/dist-packages (from pandas) (2023.3)\n",
            "Requirement already satisfied: pytz>=2020.1 in /usr/local/lib/python3.9/dist-packages (from pandas) (2022.7.1)\n",
            "Requirement already satisfied: python-dateutil>=2.8.2 in /usr/local/lib/python3.9/dist-packages (from pandas) (2.8.2)\n",
            "Requirement already satisfied: six>=1.5 in /usr/local/lib/python3.9/dist-packages (from python-dateutil>=2.8.2->pandas) (1.16.0)\n",
            "Installing collected packages: pandas\n",
            "  Attempting uninstall: pandas\n",
            "    Found existing installation: pandas 1.4.4\n",
            "    Uninstalling pandas-1.4.4:\n",
            "      Successfully uninstalled pandas-1.4.4\n",
            "Successfully installed pandas-2.0.0\n"
          ]
        }
      ]
    },
    {
      "cell_type": "code",
      "execution_count": 2,
      "metadata": {
        "colab": {
          "base_uri": "https://localhost:8080/"
        },
        "id": "NtMBgVlJOjU9",
        "outputId": "189755b3-ff60-4093-cb0f-0cf700d183e4"
      },
      "outputs": [
        {
          "output_type": "stream",
          "name": "stdout",
          "text": [
            "Looking in indexes: https://pypi.org/simple, https://us-python.pkg.dev/colab-wheels/public/simple/\n",
            "Collecting pyspark\n",
            "  Downloading pyspark-3.3.2.tar.gz (281.4 MB)\n",
            "\u001b[2K     \u001b[90m━━━━━━━━━━━━━━━━━━━━━━━━━━━━━━━━━━━━━━━\u001b[0m \u001b[32m281.4/281.4 MB\u001b[0m \u001b[31m5.0 MB/s\u001b[0m eta \u001b[36m0:00:00\u001b[0m\n",
            "\u001b[?25h  Preparing metadata (setup.py) ... \u001b[?25l\u001b[?25hdone\n",
            "Collecting py4j==0.10.9.5\n",
            "  Downloading py4j-0.10.9.5-py2.py3-none-any.whl (199 kB)\n",
            "\u001b[2K     \u001b[90m━━━━━━━━━━━━━━━━━━━━━━━━━━━━━━━━━━━━━━\u001b[0m \u001b[32m199.7/199.7 KB\u001b[0m \u001b[31m24.2 MB/s\u001b[0m eta \u001b[36m0:00:00\u001b[0m\n",
            "\u001b[?25hBuilding wheels for collected packages: pyspark\n",
            "  Building wheel for pyspark (setup.py) ... \u001b[?25l\u001b[?25hdone\n",
            "  Created wheel for pyspark: filename=pyspark-3.3.2-py2.py3-none-any.whl size=281824028 sha256=542954b37eaebf623e345f79f645a7d8747112635eb9c8ca05810b472b38b0fd\n",
            "  Stored in directory: /root/.cache/pip/wheels/6c/e3/9b/0525ce8a69478916513509d43693511463c6468db0de237c86\n",
            "Successfully built pyspark\n",
            "Installing collected packages: py4j, pyspark\n",
            "  Attempting uninstall: py4j\n",
            "    Found existing installation: py4j 0.10.9.7\n",
            "    Uninstalling py4j-0.10.9.7:\n",
            "      Successfully uninstalled py4j-0.10.9.7\n",
            "Successfully installed py4j-0.10.9.5 pyspark-3.3.2\n"
          ]
        }
      ],
      "source": [
        "!pip install pyspark"
      ]
    },
    {
      "cell_type": "code",
      "execution_count": 3,
      "metadata": {
        "id": "Pxq8xxIDo9DH"
      },
      "outputs": [],
      "source": [
        "import pyspark"
      ]
    },
    {
      "cell_type": "code",
      "execution_count": 4,
      "metadata": {
        "colab": {
          "base_uri": "https://localhost:8080/",
          "height": 488
        },
        "id": "zhgE3GYj6dUs",
        "outputId": "b8bf6282-1a86-4f2d-efc6-b5af2c8f74f6"
      },
      "outputs": [
        {
          "output_type": "execute_result",
          "data": {
            "text/plain": [
              "   Name  Age\n",
              "0     T   14\n",
              "1     H   52\n",
              "2     D    7\n",
              "3     A    8\n",
              "4     B   16\n",
              "5     N   45\n",
              "6     M    3\n",
              "7     L   26\n",
              "8     K   64\n",
              "9     Q   92\n",
              "10    S   19\n",
              "11    P   30\n",
              "12    Y   29\n",
              "13    G   34"
            ],
            "text/html": [
              "\n",
              "  <div id=\"df-fd0c71ec-6bbc-496a-8614-6130b6a0232b\">\n",
              "    <div class=\"colab-df-container\">\n",
              "      <div>\n",
              "<style scoped>\n",
              "    .dataframe tbody tr th:only-of-type {\n",
              "        vertical-align: middle;\n",
              "    }\n",
              "\n",
              "    .dataframe tbody tr th {\n",
              "        vertical-align: top;\n",
              "    }\n",
              "\n",
              "    .dataframe thead th {\n",
              "        text-align: right;\n",
              "    }\n",
              "</style>\n",
              "<table border=\"1\" class=\"dataframe\">\n",
              "  <thead>\n",
              "    <tr style=\"text-align: right;\">\n",
              "      <th></th>\n",
              "      <th>Name</th>\n",
              "      <th>Age</th>\n",
              "    </tr>\n",
              "  </thead>\n",
              "  <tbody>\n",
              "    <tr>\n",
              "      <th>0</th>\n",
              "      <td>T</td>\n",
              "      <td>14</td>\n",
              "    </tr>\n",
              "    <tr>\n",
              "      <th>1</th>\n",
              "      <td>H</td>\n",
              "      <td>52</td>\n",
              "    </tr>\n",
              "    <tr>\n",
              "      <th>2</th>\n",
              "      <td>D</td>\n",
              "      <td>7</td>\n",
              "    </tr>\n",
              "    <tr>\n",
              "      <th>3</th>\n",
              "      <td>A</td>\n",
              "      <td>8</td>\n",
              "    </tr>\n",
              "    <tr>\n",
              "      <th>4</th>\n",
              "      <td>B</td>\n",
              "      <td>16</td>\n",
              "    </tr>\n",
              "    <tr>\n",
              "      <th>5</th>\n",
              "      <td>N</td>\n",
              "      <td>45</td>\n",
              "    </tr>\n",
              "    <tr>\n",
              "      <th>6</th>\n",
              "      <td>M</td>\n",
              "      <td>3</td>\n",
              "    </tr>\n",
              "    <tr>\n",
              "      <th>7</th>\n",
              "      <td>L</td>\n",
              "      <td>26</td>\n",
              "    </tr>\n",
              "    <tr>\n",
              "      <th>8</th>\n",
              "      <td>K</td>\n",
              "      <td>64</td>\n",
              "    </tr>\n",
              "    <tr>\n",
              "      <th>9</th>\n",
              "      <td>Q</td>\n",
              "      <td>92</td>\n",
              "    </tr>\n",
              "    <tr>\n",
              "      <th>10</th>\n",
              "      <td>S</td>\n",
              "      <td>19</td>\n",
              "    </tr>\n",
              "    <tr>\n",
              "      <th>11</th>\n",
              "      <td>P</td>\n",
              "      <td>30</td>\n",
              "    </tr>\n",
              "    <tr>\n",
              "      <th>12</th>\n",
              "      <td>Y</td>\n",
              "      <td>29</td>\n",
              "    </tr>\n",
              "    <tr>\n",
              "      <th>13</th>\n",
              "      <td>G</td>\n",
              "      <td>34</td>\n",
              "    </tr>\n",
              "  </tbody>\n",
              "</table>\n",
              "</div>\n",
              "      <button class=\"colab-df-convert\" onclick=\"convertToInteractive('df-fd0c71ec-6bbc-496a-8614-6130b6a0232b')\"\n",
              "              title=\"Convert this dataframe to an interactive table.\"\n",
              "              style=\"display:none;\">\n",
              "        \n",
              "  <svg xmlns=\"http://www.w3.org/2000/svg\" height=\"24px\"viewBox=\"0 0 24 24\"\n",
              "       width=\"24px\">\n",
              "    <path d=\"M0 0h24v24H0V0z\" fill=\"none\"/>\n",
              "    <path d=\"M18.56 5.44l.94 2.06.94-2.06 2.06-.94-2.06-.94-.94-2.06-.94 2.06-2.06.94zm-11 1L8.5 8.5l.94-2.06 2.06-.94-2.06-.94L8.5 2.5l-.94 2.06-2.06.94zm10 10l.94 2.06.94-2.06 2.06-.94-2.06-.94-.94-2.06-.94 2.06-2.06.94z\"/><path d=\"M17.41 7.96l-1.37-1.37c-.4-.4-.92-.59-1.43-.59-.52 0-1.04.2-1.43.59L10.3 9.45l-7.72 7.72c-.78.78-.78 2.05 0 2.83L4 21.41c.39.39.9.59 1.41.59.51 0 1.02-.2 1.41-.59l7.78-7.78 2.81-2.81c.8-.78.8-2.07 0-2.86zM5.41 20L4 18.59l7.72-7.72 1.47 1.35L5.41 20z\"/>\n",
              "  </svg>\n",
              "      </button>\n",
              "      \n",
              "  <style>\n",
              "    .colab-df-container {\n",
              "      display:flex;\n",
              "      flex-wrap:wrap;\n",
              "      gap: 12px;\n",
              "    }\n",
              "\n",
              "    .colab-df-convert {\n",
              "      background-color: #E8F0FE;\n",
              "      border: none;\n",
              "      border-radius: 50%;\n",
              "      cursor: pointer;\n",
              "      display: none;\n",
              "      fill: #1967D2;\n",
              "      height: 32px;\n",
              "      padding: 0 0 0 0;\n",
              "      width: 32px;\n",
              "    }\n",
              "\n",
              "    .colab-df-convert:hover {\n",
              "      background-color: #E2EBFA;\n",
              "      box-shadow: 0px 1px 2px rgba(60, 64, 67, 0.3), 0px 1px 3px 1px rgba(60, 64, 67, 0.15);\n",
              "      fill: #174EA6;\n",
              "    }\n",
              "\n",
              "    [theme=dark] .colab-df-convert {\n",
              "      background-color: #3B4455;\n",
              "      fill: #D2E3FC;\n",
              "    }\n",
              "\n",
              "    [theme=dark] .colab-df-convert:hover {\n",
              "      background-color: #434B5C;\n",
              "      box-shadow: 0px 1px 3px 1px rgba(0, 0, 0, 0.15);\n",
              "      filter: drop-shadow(0px 1px 2px rgba(0, 0, 0, 0.3));\n",
              "      fill: #FFFFFF;\n",
              "    }\n",
              "  </style>\n",
              "\n",
              "      <script>\n",
              "        const buttonEl =\n",
              "          document.querySelector('#df-fd0c71ec-6bbc-496a-8614-6130b6a0232b button.colab-df-convert');\n",
              "        buttonEl.style.display =\n",
              "          google.colab.kernel.accessAllowed ? 'block' : 'none';\n",
              "\n",
              "        async function convertToInteractive(key) {\n",
              "          const element = document.querySelector('#df-fd0c71ec-6bbc-496a-8614-6130b6a0232b');\n",
              "          const dataTable =\n",
              "            await google.colab.kernel.invokeFunction('convertToInteractive',\n",
              "                                                     [key], {});\n",
              "          if (!dataTable) return;\n",
              "\n",
              "          const docLinkHtml = 'Like what you see? Visit the ' +\n",
              "            '<a target=\"_blank\" href=https://colab.research.google.com/notebooks/data_table.ipynb>data table notebook</a>'\n",
              "            + ' to learn more about interactive tables.';\n",
              "          element.innerHTML = '';\n",
              "          dataTable['output_type'] = 'display_data';\n",
              "          await google.colab.output.renderOutput(dataTable, element);\n",
              "          const docLink = document.createElement('div');\n",
              "          docLink.innerHTML = docLinkHtml;\n",
              "          element.appendChild(docLink);\n",
              "        }\n",
              "      </script>\n",
              "    </div>\n",
              "  </div>\n",
              "  "
            ]
          },
          "metadata": {},
          "execution_count": 4
        }
      ],
      "source": [
        "import pandas as pd\n",
        "pd.read_csv('info.csv')"
      ]
    },
    {
      "cell_type": "code",
      "execution_count": 5,
      "metadata": {
        "id": "FlfDf0m98ofj"
      },
      "outputs": [],
      "source": [
        "from pyspark.sql import SparkSession "
      ]
    },
    {
      "cell_type": "code",
      "execution_count": 6,
      "metadata": {
        "id": "Pt0w6NUr8yTG"
      },
      "outputs": [],
      "source": [
        "spark=SparkSession.builder.appName('Partise').getOrCreate()"
      ]
    },
    {
      "cell_type": "code",
      "execution_count": 7,
      "metadata": {
        "colab": {
          "base_uri": "https://localhost:8080/",
          "height": 219
        },
        "id": "BN0akIgf9H_v",
        "outputId": "de2dd3e3-0961-466b-fbea-98ebcbcfff94"
      },
      "outputs": [
        {
          "output_type": "execute_result",
          "data": {
            "text/plain": [
              "<pyspark.sql.session.SparkSession at 0x7fa965af6fa0>"
            ],
            "text/html": [
              "\n",
              "            <div>\n",
              "                <p><b>SparkSession - in-memory</b></p>\n",
              "                \n",
              "        <div>\n",
              "            <p><b>SparkContext</b></p>\n",
              "\n",
              "            <p><a href=\"http://2f7890fa33bc:4040\">Spark UI</a></p>\n",
              "\n",
              "            <dl>\n",
              "              <dt>Version</dt>\n",
              "                <dd><code>v3.3.2</code></dd>\n",
              "              <dt>Master</dt>\n",
              "                <dd><code>local[*]</code></dd>\n",
              "              <dt>AppName</dt>\n",
              "                <dd><code>Partise</code></dd>\n",
              "            </dl>\n",
              "        </div>\n",
              "        \n",
              "            </div>\n",
              "        "
            ]
          },
          "metadata": {},
          "execution_count": 7
        }
      ],
      "source": [
        "spark"
      ]
    },
    {
      "cell_type": "code",
      "execution_count": 8,
      "metadata": {
        "colab": {
          "base_uri": "https://localhost:8080/"
        },
        "id": "Nju7mApm9XOv",
        "outputId": "34b371ea-3ccb-4769-ef75-465e568ef203"
      },
      "outputs": [
        {
          "output_type": "stream",
          "name": "stdout",
          "text": [
            "+----+---+\n",
            "|Name|Age|\n",
            "+----+---+\n",
            "|   T| 14|\n",
            "|   H| 52|\n",
            "|   D|  7|\n",
            "|   A|  8|\n",
            "|   B| 16|\n",
            "|   N| 45|\n",
            "|   M|  3|\n",
            "|   L| 26|\n",
            "|   K| 64|\n",
            "|   Q| 92|\n",
            "|   S| 19|\n",
            "|   P| 30|\n",
            "|   Y| 29|\n",
            "|   G| 34|\n",
            "+----+---+\n",
            "\n"
          ]
        }
      ],
      "source": [
        "df_spark=spark.read.option(\"header\", True).csv('info.csv')\n",
        "df_spark.show()"
      ]
    },
    {
      "cell_type": "code",
      "execution_count": 9,
      "metadata": {
        "colab": {
          "base_uri": "https://localhost:8080/"
        },
        "id": "0t2XNK_y9hrB",
        "outputId": "a78b186d-d87f-42bf-c203-0b564903940e"
      },
      "outputs": [
        {
          "output_type": "stream",
          "name": "stdout",
          "text": [
            "+---+\n",
            "|Age|\n",
            "+---+\n",
            "| 14|\n",
            "| 52|\n",
            "|  7|\n",
            "|  8|\n",
            "| 16|\n",
            "| 45|\n",
            "|  3|\n",
            "| 26|\n",
            "| 64|\n",
            "| 92|\n",
            "| 19|\n",
            "| 30|\n",
            "| 29|\n",
            "| 34|\n",
            "+---+\n",
            "\n"
          ]
        }
      ],
      "source": [
        "df_spark.select('Age').show()"
      ]
    },
    {
      "cell_type": "code",
      "execution_count": 10,
      "metadata": {
        "id": "4ouLq8RT_P1u"
      },
      "outputs": [],
      "source": [
        "df_spark.createOrReplaceTempView(\"df_spark\")"
      ]
    },
    {
      "cell_type": "code",
      "execution_count": 11,
      "metadata": {
        "colab": {
          "base_uri": "https://localhost:8080/"
        },
        "id": "JOkw2RqrGARr",
        "outputId": "7588a21d-9c2b-439f-93eb-5d04ef6def8c"
      },
      "outputs": [
        {
          "output_type": "stream",
          "name": "stdout",
          "text": [
            "--2023-04-07 07:00:10--  https://raw.githubusercontent.com/demanejar/retails/master/resources/retails.csv\n",
            "Resolving raw.githubusercontent.com (raw.githubusercontent.com)... 185.199.108.133, 185.199.109.133, 185.199.110.133, ...\n",
            "Connecting to raw.githubusercontent.com (raw.githubusercontent.com)|185.199.108.133|:443... connected.\n",
            "HTTP request sent, awaiting response... 200 OK\n",
            "Length: 43954909 (42M) [text/plain]\n",
            "Saving to: ‘retails.csv’\n",
            "\n",
            "retails.csv         100%[===================>]  41.92M   149MB/s    in 0.3s    \n",
            "\n",
            "2023-04-07 07:00:11 (149 MB/s) - ‘retails.csv’ saved [43954909/43954909]\n",
            "\n"
          ]
        }
      ],
      "source": [
        "!wget https://raw.githubusercontent.com/demanejar/retails/master/resources/retails.csv"
      ]
    },
    {
      "cell_type": "code",
      "execution_count": 12,
      "metadata": {
        "colab": {
          "base_uri": "https://localhost:8080/"
        },
        "id": "brjmY95-MpU7",
        "outputId": "581245c8-a7f4-47bb-d4b9-4db175447895"
      },
      "outputs": [
        {
          "output_type": "stream",
          "name": "stdout",
          "text": [
            "+---------+---------+--------------------+--------+------------+---------+----------+--------------+\n",
            "|InvoiceNo|StockCode|         Description|Quantity| InvoiceDate|UnitPrice|CustomerID|       Country|\n",
            "+---------+---------+--------------------+--------+------------+---------+----------+--------------+\n",
            "|   536365|   85123A|WHITE HANGING HEA...|       6|12/1/10 8:26|     2.55|     17850|United Kingdom|\n",
            "|   536365|    71053| WHITE METAL LANTERN|       6|12/1/10 8:26|     3.39|     17850|United Kingdom|\n",
            "|   536365|   84406B|CREAM CUPID HEART...|       8|12/1/10 8:26|     2.75|     17850|United Kingdom|\n",
            "|   536365|   84029G|KNITTED UNION FLA...|       6|12/1/10 8:26|     3.39|     17850|United Kingdom|\n",
            "|   536365|   84029E|RED WOOLLY HOTTIE...|       6|12/1/10 8:26|     3.39|     17850|United Kingdom|\n",
            "|   536365|    22752|SET 7 BABUSHKA NE...|       2|12/1/10 8:26|     7.65|     17850|United Kingdom|\n",
            "|   536365|    21730|GLASS STAR FROSTE...|       6|12/1/10 8:26|     4.25|     17850|United Kingdom|\n",
            "|   536366|    22633|HAND WARMER UNION...|       6|12/1/10 8:28|     1.85|     17850|United Kingdom|\n",
            "|   536366|    22632|HAND WARMER RED P...|       6|12/1/10 8:28|     1.85|     17850|United Kingdom|\n",
            "|   536367|    84879|ASSORTED COLOUR B...|      32|12/1/10 8:34|     1.69|     13047|United Kingdom|\n",
            "|   536367|    22745|POPPY'S PLAYHOUSE...|       6|12/1/10 8:34|      2.1|     13047|United Kingdom|\n",
            "|   536367|    22748|POPPY'S PLAYHOUSE...|       6|12/1/10 8:34|      2.1|     13047|United Kingdom|\n",
            "|   536367|    22749|FELTCRAFT PRINCES...|       8|12/1/10 8:34|     3.75|     13047|United Kingdom|\n",
            "|   536367|    22310|IVORY KNITTED MUG...|       6|12/1/10 8:34|     1.65|     13047|United Kingdom|\n",
            "|   536367|    84969|BOX OF 6 ASSORTED...|       6|12/1/10 8:34|     4.25|     13047|United Kingdom|\n",
            "|   536367|    22623|BOX OF VINTAGE JI...|       3|12/1/10 8:34|     4.95|     13047|United Kingdom|\n",
            "|   536367|    22622|BOX OF VINTAGE AL...|       2|12/1/10 8:34|     9.95|     13047|United Kingdom|\n",
            "|   536367|    21754|HOME BUILDING BLO...|       3|12/1/10 8:34|     5.95|     13047|United Kingdom|\n",
            "|   536367|    21755|LOVE BUILDING BLO...|       3|12/1/10 8:34|     5.95|     13047|United Kingdom|\n",
            "|   536367|    21777|RECIPE BOX WITH M...|       4|12/1/10 8:34|     7.95|     13047|United Kingdom|\n",
            "+---------+---------+--------------------+--------+------------+---------+----------+--------------+\n",
            "only showing top 20 rows\n",
            "\n"
          ]
        }
      ],
      "source": [
        "df=SparkSession.builder.appName('Part1').getOrCreate()\n",
        "df=df.read.option('header', True).csv('retails.csv')\n",
        "df.show()"
      ]
    },
    {
      "cell_type": "markdown",
      "metadata": {
        "id": "Ig4bHiDNOXte"
      },
      "source": [
        "Part 1\n",
        "\n",
        "Câu hỏi: Có tổng bao nhiêu giao dịch, sản phẩm và khách hàng khác nhau?"
      ]
    },
    {
      "cell_type": "code",
      "execution_count": 13,
      "metadata": {
        "colab": {
          "base_uri": "https://localhost:8080/"
        },
        "id": "jL3ocL2sM89Y",
        "outputId": "1d4d73bf-41b8-49d1-e80c-5f15a4484c97"
      },
      "outputs": [
        {
          "output_type": "stream",
          "name": "stdout",
          "text": [
            "Khách hàng :  4372\n"
          ]
        }
      ],
      "source": [
        "flag=df.select(\"CustomerID\").distinct().count()-1\n",
        "print(\"Khách hàng : \", flag)"
      ]
    },
    {
      "cell_type": "code",
      "execution_count": 14,
      "metadata": {
        "colab": {
          "base_uri": "https://localhost:8080/"
        },
        "id": "kPpqeQUCOaY0",
        "outputId": "20ca71f4-e691-4684-df61-488c85cb0454"
      },
      "outputs": [
        {
          "output_type": "stream",
          "name": "stdout",
          "text": [
            "Sản phẩm :  4070\n"
          ]
        }
      ],
      "source": [
        "flag=df.select(\"StockCode\").distinct().count()\n",
        "print(\"Sản phẩm : \", flag)"
      ]
    },
    {
      "cell_type": "code",
      "execution_count": 15,
      "metadata": {
        "colab": {
          "base_uri": "https://localhost:8080/"
        },
        "id": "SmeTUgVlOsxj",
        "outputId": "9ec99e7a-b765-4238-c174-fcbf1e547966"
      },
      "outputs": [
        {
          "output_type": "stream",
          "name": "stdout",
          "text": [
            "Giao dịch :  25900\n"
          ]
        }
      ],
      "source": [
        "flag=df.select(\"InvoiceNo\").distinct().count()\n",
        "print(\"Giao dịch : \", flag)"
      ]
    },
    {
      "cell_type": "code",
      "execution_count": 16,
      "metadata": {
        "colab": {
          "base_uri": "https://localhost:8080/"
        },
        "id": "HkqPgWP6x1TU",
        "outputId": "b1d60d08-2840-46b5-9b82-a7562ff95dff"
      },
      "outputs": [
        {
          "output_type": "stream",
          "name": "stdout",
          "text": [
            "Tổng số giao dịch: 25900\n",
            "Tổng số sản phẩm: 4070\n",
            "Tổng số khách hàng: 4372\n"
          ]
        }
      ],
      "source": [
        "from pyspark.sql.functions import countDistinct\n",
        "\n",
        "# Đếm số lượng giao dịch khác nhau\n",
        "num_transactions = df.select(countDistinct('InvoiceNo')).collect()[0][0]\n",
        "\n",
        "# Đếm số lượng sản phẩm khác nhau\n",
        "num_products = df.select(countDistinct('StockCode')).collect()[0][0]\n",
        "\n",
        "# Đếm số lượng khách hàng khác nhau\n",
        "num_customers = df.select(countDistinct('CustomerID')).collect()[0][0]\n",
        "\n",
        "print(f\"Tổng số giao dịch: {num_transactions}\")\n",
        "print(f\"Tổng số sản phẩm: {num_products}\")\n",
        "print(f\"Tổng số khách hàng: {num_customers}\")"
      ]
    },
    {
      "cell_type": "markdown",
      "metadata": {
        "id": "F2rScJfDPQqp"
      },
      "source": [
        "Part 2\n",
        "\n",
        "Câu hỏi: Tỉ lệ khách hàng không có thông *tin*"
      ]
    },
    {
      "cell_type": "code",
      "execution_count": 17,
      "metadata": {
        "colab": {
          "base_uri": "https://localhost:8080/"
        },
        "id": "5VuqkG3-PTb1",
        "outputId": "df0c3c10-5ec2-4860-fa63-00f0cd4ea5ac"
      },
      "outputs": [
        {
          "output_type": "stream",
          "name": "stdout",
          "text": [
            "Tỉ lệ khách hàng không có thông tin :  30.889549508346672\n"
          ]
        }
      ],
      "source": [
        "flag =df.select(\"CustomerID\").filter(df[\"CustomerID\"].isNull()).count()/float(df.select(\"CustomerID\").distinct().count())\n",
        "print(\"Tỉ lệ khách hàng không có thông tin : \", flag)"
      ]
    },
    {
      "cell_type": "markdown",
      "metadata": {
        "id": "Ul2VrO6YVX7E"
      },
      "source": [
        "Part 3\n",
        "\n",
        "Câu hỏi: Đâu là nước có số lượng đơn hàng (Quantity) nhiều thứ 3?"
      ]
    },
    {
      "cell_type": "code",
      "execution_count": 18,
      "metadata": {
        "colab": {
          "base_uri": "https://localhost:8080/"
        },
        "id": "JVXZKLVaVY9U",
        "outputId": "9bd92e3a-7131-488a-be12-5aa6fba39ecf"
      },
      "outputs": [
        {
          "output_type": "stream",
          "name": "stdout",
          "text": [
            "+---------------+-------------+\n",
            "|        Country|sum(Quantity)|\n",
            "+---------------+-------------+\n",
            "| United Kingdom|      4263829|\n",
            "|    Netherlands|       200128|\n",
            "|           EIRE|       142637|\n",
            "|        Germany|       117448|\n",
            "|         France|       110480|\n",
            "|      Australia|        83653|\n",
            "|         Sweden|        35637|\n",
            "|    Switzerland|        30325|\n",
            "|          Spain|        26824|\n",
            "|          Japan|        25218|\n",
            "|        Belgium|        23152|\n",
            "|         Norway|        19247|\n",
            "|       Portugal|        16180|\n",
            "|        Finland|        10666|\n",
            "|Channel Islands|         9479|\n",
            "|        Denmark|         8188|\n",
            "|          Italy|         7999|\n",
            "|         Cyprus|         6317|\n",
            "|      Singapore|         5234|\n",
            "|        Austria|         4827|\n",
            "+---------------+-------------+\n",
            "only showing top 20 rows\n",
            "\n"
          ]
        }
      ],
      "source": [
        "df=df.withColumn('Quantity', df['Quantity'].cast('int'))\n",
        "df.groupBy('Country').sum('Quantity').sort('sum(Quantity)',ascending=False).show()"
      ]
    },
    {
      "cell_type": "code",
      "execution_count": 19,
      "metadata": {
        "colab": {
          "base_uri": "https://localhost:8080/"
        },
        "id": "9Fhg7RD4ZhG6",
        "outputId": "985ee464-60bf-4298-fb36-d7ddabba2182"
      },
      "outputs": [
        {
          "output_type": "stream",
          "name": "stdout",
          "text": [
            "Nước có số lượng đơn hàng (Quantity) nhiều thứ 3 :  Row(Country='EIRE')\n"
          ]
        }
      ],
      "source": [
        "flag = df.groupBy('Country').sum('Quantity').sort('sum(Quantity)',ascending=False).select('Country').take(3)\n",
        "print(\"Nước có số lượng đơn hàng (Quantity) nhiều thứ 3 : \",flag[2])"
      ]
    },
    {
      "cell_type": "markdown",
      "metadata": {
        "id": "n7emSjnNiATj"
      },
      "source": [
        "Part 4\n",
        "\n",
        "Câu hỏi: Từ nào xuất hiện ít và nhiều nhất trong phần Description?"
      ]
    },
    {
      "cell_type": "code",
      "execution_count": 20,
      "metadata": {
        "colab": {
          "base_uri": "https://localhost:8080/"
        },
        "id": "bSf61UZtgs9h",
        "outputId": "5fb12a42-3a3e-402f-bf19-d636fc73dd82"
      },
      "outputs": [
        {
          "output_type": "stream",
          "name": "stdout",
          "text": [
            "Từ xuất hiện ít nhất là: PINK BOUDOIR T-LIGHT HOLDER\n",
            "Từ xuất hiện nhiều nhất trong phần Description là: WHITE HANGING HEART T-LIGHT HOLDER\n"
          ]
        }
      ],
      "source": [
        "import collections\n",
        "from pyspark import SparkContext\n",
        "from pyspark.sql.functions import desc\n",
        "\n",
        "flag=df.groupBy('Description').count().orderBy('count')\n",
        "least_common_word = flag.first()['Description']\n",
        "print(\"Từ xuất hiện ít nhất là:\", least_common_word)\n",
        "flag=df.groupBy('Description').count().orderBy(desc('count'))\n",
        "most_common_word = flag.first()['Description']\n",
        "print(\"Từ xuất hiện nhiều nhất trong phần Description là:\", most_common_word)"
      ]
    },
    {
      "cell_type": "markdown",
      "metadata": {
        "id": "wWsO1fcPvC3y"
      },
      "source": [
        "Part 5\n",
        "\n",
        "Câu hỏi: Sản phẩm nào bán được số lượng (Quantity) lớn nhất ở United Kingdom?"
      ]
    },
    {
      "cell_type": "code",
      "execution_count": 21,
      "metadata": {
        "colab": {
          "base_uri": "https://localhost:8080/"
        },
        "id": "n0gR4JaLvFL5",
        "outputId": "214ffaad-f182-4900-b03e-7ef0b860cf1a"
      },
      "outputs": [
        {
          "output_type": "stream",
          "name": "stdout",
          "text": [
            "Sản phẩm bán được số lượng lớn nhất ở United Kingdom là :  POPCORN HOLDER\n"
          ]
        }
      ],
      "source": [
        "UK = df.filter(df.Country == 'United Kingdom')\n",
        "product = UK.groupBy('StockCode').sum('Quantity')\n",
        "sort_sum = product.sort('sum(Quantity)', ascending=False)\n",
        "most_sold_product = sort_sum.first()['StockCode']\n",
        "name = df.filter(df.StockCode == most_sold_product).select('Description').distinct().collect()[0]['Description']\n",
        "print('Sản phẩm bán được số lượng lớn nhất ở United Kingdom là : ', name)"
      ]
    },
    {
      "cell_type": "markdown",
      "metadata": {
        "id": "hM3yn1WhaKb7"
      },
      "source": [
        "Example 1: Simple select"
      ]
    },
    {
      "cell_type": "code",
      "source": [
        "dt=SparkSession.builder.appName('Group').getOrCreate()\n",
        "dt=dt.read.option('header', True).csv('input.csv')\n",
        "dt.show()"
      ],
      "metadata": {
        "colab": {
          "base_uri": "https://localhost:8080/"
        },
        "id": "OMF2amM49-RG",
        "outputId": "21531a85-b045-4595-e689-f12a3bb7acd2"
      },
      "execution_count": 22,
      "outputs": [
        {
          "output_type": "stream",
          "name": "stdout",
          "text": [
            "+---+-----------------+----------+\n",
            "| id|             name|population|\n",
            "+---+-----------------+----------+\n",
            "|  0|           Warsaw|   1764615|\n",
            "|  1|Villeneuve-Loubet|     15020|\n",
            "|  2|           Vranje|     83524|\n",
            "|  3|       Pittsburgh|   1775634|\n",
            "+---+-----------------+----------+\n",
            "\n"
          ]
        }
      ]
    },
    {
      "cell_type": "markdown",
      "metadata": {
        "id": "f_HlfY5IaTaB"
      },
      "source": [
        "Query population lớn nhất"
      ]
    },
    {
      "cell_type": "code",
      "source": [
        "dt=dt.withColumn('population',dt['population'].cast('int'))\n",
        "dt.select('population').agg({'population':'max'}).show()"
      ],
      "metadata": {
        "colab": {
          "base_uri": "https://localhost:8080/"
        },
        "id": "5FQNF4Zp-FBJ",
        "outputId": "36ebfe04-3f74-44a2-f263-7c9cd0bbd15a"
      },
      "execution_count": 23,
      "outputs": [
        {
          "output_type": "stream",
          "name": "stdout",
          "text": [
            "+---------------+\n",
            "|max(population)|\n",
            "+---------------+\n",
            "|        1775634|\n",
            "+---------------+\n",
            "\n"
          ]
        }
      ]
    },
    {
      "cell_type": "markdown",
      "source": [
        "Nhóm lại các id cùng group và cho ra output như sau:![one.png](data:image/png;base64,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)\n"
      ],
      "metadata": {
        "id": "9nmkYTBHAH1K"
      }
    },
    {
      "cell_type": "code",
      "execution_count": 24,
      "metadata": {
        "id": "WQ2K13FRaKIu",
        "colab": {
          "base_uri": "https://localhost:8080/"
        },
        "outputId": "3100e698-afdf-4b82-e24f-596601acab42"
      },
      "outputs": [
        {
          "output_type": "stream",
          "name": "stdout",
          "text": [
            "+---+-----+\n",
            "| id|group|\n",
            "+---+-----+\n",
            "|  0|    0|\n",
            "|  1|    1|\n",
            "|  2|    0|\n",
            "|  3|    1|\n",
            "|  4|    0|\n",
            "+---+-----+\n",
            "\n"
          ]
        }
      ],
      "source": [
        "t=SparkSession.builder.appName('Group').getOrCreate()\n",
        "t=t.read.option('header', True).csv('InputGroup.csv')\n",
        "t.show()"
      ]
    },
    {
      "cell_type": "code",
      "source": [
        "t.groupBy('group').agg({'id':'collect_list'}).sort('group').show()"
      ],
      "metadata": {
        "colab": {
          "base_uri": "https://localhost:8080/"
        },
        "id": "y_TbgiAA9umK",
        "outputId": "1a3bba7c-f4c6-445c-c894-8e5f60d15d6e"
      },
      "execution_count": 25,
      "outputs": [
        {
          "output_type": "stream",
          "name": "stdout",
          "text": [
            "+-----+----------------+\n",
            "|group|collect_list(id)|\n",
            "+-----+----------------+\n",
            "|    0|       [0, 2, 4]|\n",
            "|    1|          [1, 3]|\n",
            "+-----+----------------+\n",
            "\n"
          ]
        }
      ]
    },
    {
      "cell_type": "code",
      "source": [
        "from pyspark.sql.functions import collect_list\n",
        "t.groupBy('group').agg(collect_list('id').alias('ids')).sort('group').show()"
      ],
      "metadata": {
        "colab": {
          "base_uri": "https://localhost:8080/"
        },
        "id": "3EpVofQYHN1D",
        "outputId": "1604d3bc-66f4-4cbb-e521-0f4ca1f50ccd"
      },
      "execution_count": 26,
      "outputs": [
        {
          "output_type": "stream",
          "name": "stdout",
          "text": [
            "+-----+---------+\n",
            "|group|      ids|\n",
            "+-----+---------+\n",
            "|    0|[0, 2, 4]|\n",
            "|    1|   [1, 3]|\n",
            "+-----+---------+\n",
            "\n"
          ]
        }
      ]
    },
    {
      "cell_type": "markdown",
      "source": [
        "Pivot trong Python là một phương pháp thay đổi cấu trúc của bảng dữ liệu, từ dạng \"dài\" (long) thành dạng \"rộng\" (wide), trong đó các giá trị của một cột được chuyển thành các cột mới, và các giá trị của các cột khác được lấy làm giá trị của các ô trong bảng mới. Pivot thường được sử dụng trong xử lý dữ liệu để thống kê, phân tích, và trực quan hóa dữ liệu.\n",
        "\n",
        "Trong Python, bạn có thể sử dụng phương thức pivot() của pandas để pivot bảng dữ liệu. Phương thức này có các tham số sau:\n",
        "\n",
        "* index: Tên cột hoặc danh sách các cột sẽ được sử dụng làm các giá trị chính (index) của bảng mới.\n",
        "\n",
        "* columns: Tên cột hoặc danh sách các cột sẽ được chuyển đổi thành các cột mới trong bảng mới.\n",
        "\n",
        "* values: Tên cột hoặc danh sách các cột sẽ được sử dụng làm giá trị của các ô trong bảng mới.\n",
        "\n",
        "* aggfunc: Hàm thống kê sẽ được sử dụng để tính toán các giá trị của các ô trong bảng mới. Mặc định là hàm mean().\n",
        "\n",
        "* fill_value: Giá trị sẽ được sử dụng để thay thế các ô có giá trị null trong bảng mới.\n",
        "\n",
        "Ví dụ, để pivot bảng dữ liệu \"long_table\" thành bảng mới với giá trị của cột \"value\" chuyển thành các cột mới dựa trên giá trị của cột \"variable\", bạn có thể sử dụng đoạn mã sau:\n",
        "\n",
        "![one.png](data:image/png;base64,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)"
      ],
      "metadata": {
        "id": "T2TXYq8PNGV0"
      }
    },
    {
      "cell_type": "markdown",
      "source": [
        "![one.png](data:image/png;base64,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)"
      ],
      "metadata": {
        "id": "bb-emjS3J7nM"
      }
    },
    {
      "cell_type": "code",
      "source": [
        "from pyspark.conf import SparkConf\n",
        "p=SparkSession.builder.config(conf=SparkConf()).appName('Pivot').getOrCreate()\n",
        "p=p.read.option('header',True).csv('pivot.csv')\n",
        "p.show()"
      ],
      "metadata": {
        "colab": {
          "base_uri": "https://localhost:8080/"
        },
        "id": "HVwymWhRKJZd",
        "outputId": "d3fa8c14-59ba-430a-fa2c-9649a3e98a40"
      },
      "execution_count": 27,
      "outputs": [
        {
          "output_type": "stream",
          "name": "stdout",
          "text": [
            "+---+---+-----+-----+\n",
            "| id|day|price|units|\n",
            "+---+---+-----+-----+\n",
            "|100|  1|   23|   10|\n",
            "|100|  2|   45|   11|\n",
            "|100|  3|   67|   12|\n",
            "|100|  4|   78|   13|\n",
            "|101|  1|   23|   10|\n",
            "|101|  2|   45|   13|\n",
            "|101|  3|   67|   14|\n",
            "|101|  4|   78|   15|\n",
            "|102|  1|   23|   10|\n",
            "|102|  2|   45|   11|\n",
            "|102|  3|   67|   16|\n",
            "|102|  4|   78|   18|\n",
            "+---+---+-----+-----+\n",
            "\n"
          ]
        }
      ]
    },
    {
      "cell_type": "code",
      "source": [
        "from pyspark.sql.functions import concat, lit, first\n",
        "t = p.withColumn(\"price_day\", concat(lit(\"price_\"), p[\"day\"])).groupBy(\"id\").pivot(\"price_day\").agg({'price':'first'})\n",
        "t.show()"
      ],
      "metadata": {
        "colab": {
          "base_uri": "https://localhost:8080/"
        },
        "id": "5qCZ-0BgTmTr",
        "outputId": "36c04290-2fd0-4a58-a88e-9738483116b5"
      },
      "execution_count": 41,
      "outputs": [
        {
          "output_type": "stream",
          "name": "stdout",
          "text": [
            "+---+-------+-------+-------+-------+\n",
            "| id|price_1|price_2|price_3|price_4|\n",
            "+---+-------+-------+-------+-------+\n",
            "|100|     23|     45|     67|     78|\n",
            "|101|     23|     45|     67|     78|\n",
            "|102|     23|     45|     67|     78|\n",
            "+---+-------+-------+-------+-------+\n",
            "\n"
          ]
        }
      ]
    },
    {
      "cell_type": "code",
      "source": [
        "n = p.withColumn(\"unit_day\", concat(lit(\"unit_\"), p[\"day\"])).groupBy(\"id\").pivot(\"unit_day\").agg({'units':'first'})\n",
        "n.show()"
      ],
      "metadata": {
        "colab": {
          "base_uri": "https://localhost:8080/"
        },
        "id": "VCyZKLqphsqM",
        "outputId": "5ed1b825-9710-4e5c-faeb-cdd01608198b"
      },
      "execution_count": 42,
      "outputs": [
        {
          "output_type": "stream",
          "name": "stdout",
          "text": [
            "+---+------+------+------+------+\n",
            "| id|unit_1|unit_2|unit_3|unit_4|\n",
            "+---+------+------+------+------+\n",
            "|100|    10|    11|    12|    13|\n",
            "|101|    10|    13|    14|    15|\n",
            "|102|    10|    11|    16|    18|\n",
            "+---+------+------+------+------+\n",
            "\n"
          ]
        }
      ]
    },
    {
      "cell_type": "code",
      "source": [
        "t.join(n,'id').sort('id').show()"
      ],
      "metadata": {
        "colab": {
          "base_uri": "https://localhost:8080/"
        },
        "id": "g_L5CWiAh9-Z",
        "outputId": "c0072aaa-4362-47bd-de38-af1205bb6868"
      },
      "execution_count": 43,
      "outputs": [
        {
          "output_type": "stream",
          "name": "stdout",
          "text": [
            "+---+-------+-------+-------+-------+------+------+------+------+\n",
            "| id|price_1|price_2|price_3|price_4|unit_1|unit_2|unit_3|unit_4|\n",
            "+---+-------+-------+-------+-------+------+------+------+------+\n",
            "|100|     23|     45|     67|     78|    10|    11|    12|    13|\n",
            "|101|     23|     45|     67|     78|    10|    13|    14|    15|\n",
            "|102|     23|     45|     67|     78|    10|    11|    16|    18|\n",
            "+---+-------+-------+-------+-------+------+------+------+------+\n",
            "\n"
          ]
        }
      ]
    },
    {
      "cell_type": "markdown",
      "source": [
        "# window function:\n",
        "\n",
        "Yêu cầu:\n",
        "\n",
        "*   Load dữ liệu vào spark từ file csv\n",
        "*   Tính running_total hay tổng tích lũy số item đã bán được đến thời điểm time.\n",
        "\n",
        "Output có dạng như sau:\n",
        "\n",
        "![one.png](data:image/png;base64,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)"
      ],
      "metadata": {
        "id": "wlE0aI6Vm1vg"
      }
    },
    {
      "cell_type": "code",
      "source": [
        "k=SparkSession.builder.config(conf=SparkConf()).appName('window function').getOrCreate()\n",
        "k=k.read.option('header',True).csv('windowfunction.csv')\n",
        "k.show()"
      ],
      "metadata": {
        "colab": {
          "base_uri": "https://localhost:8080/"
        },
        "id": "0JxR8vAUnSpi",
        "outputId": "519f5de4-6a97-43ff-a5d0-e8e46ff62806"
      },
      "execution_count": 83,
      "outputs": [
        {
          "output_type": "stream",
          "name": "stdout",
          "text": [
            "+----+----------+----------+\n",
            "|time|department|items_sold|\n",
            "+----+----------+----------+\n",
            "|   1|        IT|        15|\n",
            "|   2|   Support|        81|\n",
            "|   3|   Support|        90|\n",
            "|   4|   Support|        25|\n",
            "|   5|        IT|        40|\n",
            "|   6|        IT|        24|\n",
            "|   7|   Support|        31|\n",
            "|   8|   Support|         1|\n",
            "|   9|        HR|        27|\n",
            "|  10|        IT|        75|\n",
            "+----+----------+----------+\n",
            "\n"
          ]
        }
      ]
    },
    {
      "cell_type": "code",
      "source": [
        "from pyspark.sql.window import Window\n",
        "from pyspark.sql.functions import sum\n",
        "\n",
        "k.withColumn('running_total', sum('items_sold').over(Window.partitionBy('department').orderBy('time','department').rowsBetween(Window.unboundedPreceding, Window.currentRow))).show()"
      ],
      "metadata": {
        "colab": {
          "base_uri": "https://localhost:8080/"
        },
        "id": "5Pj0VWHQnNOV",
        "outputId": "cbb40852-de11-40be-9c49-3deda9a47dcf"
      },
      "execution_count": 92,
      "outputs": [
        {
          "output_type": "stream",
          "name": "stdout",
          "text": [
            "+----+----------+----------+-------------+\n",
            "|time|department|items_sold|running_total|\n",
            "+----+----------+----------+-------------+\n",
            "|   9|        HR|        27|         27.0|\n",
            "|   1|        IT|        15|         15.0|\n",
            "|  10|        IT|        75|         90.0|\n",
            "|   5|        IT|        40|        130.0|\n",
            "|   6|        IT|        24|        154.0|\n",
            "|   2|   Support|        81|         81.0|\n",
            "|   3|   Support|        90|        171.0|\n",
            "|   4|   Support|        25|        196.0|\n",
            "|   7|   Support|        31|        227.0|\n",
            "|   8|   Support|         1|        228.0|\n",
            "+----+----------+----------+-------------+\n",
            "\n"
          ]
        }
      ]
    }
  ],
  "metadata": {
    "colab": {
      "provenance": []
    },
    "kernelspec": {
      "display_name": "Python 3",
      "name": "python3"
    },
    "language_info": {
      "name": "python"
    }
  },
  "nbformat": 4,
  "nbformat_minor": 0
}
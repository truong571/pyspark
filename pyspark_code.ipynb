{
  "nbformat": 4,
  "nbformat_minor": 0,
  "metadata": {
    "colab": {
      "provenance": []
    },
    "kernelspec": {
      "name": "python3",
      "display_name": "Python 3"
    },
    "language_info": {
      "name": "python"
    }
  },
  "cells": [
    {
      "cell_type": "code",
      "execution_count": null,
      "metadata": {
        "colab": {
          "base_uri": "https://localhost:8080/"
        },
        "id": "NtMBgVlJOjU9",
        "outputId": "524d3415-3ed3-4001-a711-45fe01fed402"
      },
      "outputs": [
        {
          "output_type": "stream",
          "name": "stdout",
          "text": [
            "Looking in indexes: https://pypi.org/simple, https://us-python.pkg.dev/colab-wheels/public/simple/\n",
            "Requirement already satisfied: pyspark in /usr/local/lib/python3.9/dist-packages (3.3.2)\n",
            "Requirement already satisfied: py4j==0.10.9.5 in /usr/local/lib/python3.9/dist-packages (from pyspark) (0.10.9.5)\n"
          ]
        }
      ],
      "source": [
        "!pip install pyspark"
      ]
    },
    {
      "cell_type": "code",
      "source": [
        "import pyspark"
      ],
      "metadata": {
        "id": "Pxq8xxIDo9DH"
      },
      "execution_count": 212,
      "outputs": []
    },
    {
      "cell_type": "code",
      "source": [
        "import pandas as pd\n",
        "pd.read_csv('info.csv')"
      ],
      "metadata": {
        "colab": {
          "base_uri": "https://localhost:8080/",
          "height": 488
        },
        "id": "zhgE3GYj6dUs",
        "outputId": "7feaa87e-1fbb-4861-ab06-ee3a2db605fb"
      },
      "execution_count": null,
      "outputs": [
        {
          "output_type": "execute_result",
          "data": {
            "text/plain": [
              "   Name  Age\n",
              "0     T   14\n",
              "1     H   52\n",
              "2     D    7\n",
              "3     A    8\n",
              "4     B   16\n",
              "5     N   45\n",
              "6     M    3\n",
              "7     L   26\n",
              "8     K   64\n",
              "9     Q   92\n",
              "10    S   19\n",
              "11    P   30\n",
              "12    Y   29\n",
              "13    G   34"
            ],
            "text/html": [
              "\n",
              "  <div id=\"df-febe1813-025d-4247-b608-449f45492b74\">\n",
              "    <div class=\"colab-df-container\">\n",
              "      <div>\n",
              "<style scoped>\n",
              "    .dataframe tbody tr th:only-of-type {\n",
              "        vertical-align: middle;\n",
              "    }\n",
              "\n",
              "    .dataframe tbody tr th {\n",
              "        vertical-align: top;\n",
              "    }\n",
              "\n",
              "    .dataframe thead th {\n",
              "        text-align: right;\n",
              "    }\n",
              "</style>\n",
              "<table border=\"1\" class=\"dataframe\">\n",
              "  <thead>\n",
              "    <tr style=\"text-align: right;\">\n",
              "      <th></th>\n",
              "      <th>Name</th>\n",
              "      <th>Age</th>\n",
              "    </tr>\n",
              "  </thead>\n",
              "  <tbody>\n",
              "    <tr>\n",
              "      <th>0</th>\n",
              "      <td>T</td>\n",
              "      <td>14</td>\n",
              "    </tr>\n",
              "    <tr>\n",
              "      <th>1</th>\n",
              "      <td>H</td>\n",
              "      <td>52</td>\n",
              "    </tr>\n",
              "    <tr>\n",
              "      <th>2</th>\n",
              "      <td>D</td>\n",
              "      <td>7</td>\n",
              "    </tr>\n",
              "    <tr>\n",
              "      <th>3</th>\n",
              "      <td>A</td>\n",
              "      <td>8</td>\n",
              "    </tr>\n",
              "    <tr>\n",
              "      <th>4</th>\n",
              "      <td>B</td>\n",
              "      <td>16</td>\n",
              "    </tr>\n",
              "    <tr>\n",
              "      <th>5</th>\n",
              "      <td>N</td>\n",
              "      <td>45</td>\n",
              "    </tr>\n",
              "    <tr>\n",
              "      <th>6</th>\n",
              "      <td>M</td>\n",
              "      <td>3</td>\n",
              "    </tr>\n",
              "    <tr>\n",
              "      <th>7</th>\n",
              "      <td>L</td>\n",
              "      <td>26</td>\n",
              "    </tr>\n",
              "    <tr>\n",
              "      <th>8</th>\n",
              "      <td>K</td>\n",
              "      <td>64</td>\n",
              "    </tr>\n",
              "    <tr>\n",
              "      <th>9</th>\n",
              "      <td>Q</td>\n",
              "      <td>92</td>\n",
              "    </tr>\n",
              "    <tr>\n",
              "      <th>10</th>\n",
              "      <td>S</td>\n",
              "      <td>19</td>\n",
              "    </tr>\n",
              "    <tr>\n",
              "      <th>11</th>\n",
              "      <td>P</td>\n",
              "      <td>30</td>\n",
              "    </tr>\n",
              "    <tr>\n",
              "      <th>12</th>\n",
              "      <td>Y</td>\n",
              "      <td>29</td>\n",
              "    </tr>\n",
              "    <tr>\n",
              "      <th>13</th>\n",
              "      <td>G</td>\n",
              "      <td>34</td>\n",
              "    </tr>\n",
              "  </tbody>\n",
              "</table>\n",
              "</div>\n",
              "      <button class=\"colab-df-convert\" onclick=\"convertToInteractive('df-febe1813-025d-4247-b608-449f45492b74')\"\n",
              "              title=\"Convert this dataframe to an interactive table.\"\n",
              "              style=\"display:none;\">\n",
              "        \n",
              "  <svg xmlns=\"http://www.w3.org/2000/svg\" height=\"24px\"viewBox=\"0 0 24 24\"\n",
              "       width=\"24px\">\n",
              "    <path d=\"M0 0h24v24H0V0z\" fill=\"none\"/>\n",
              "    <path d=\"M18.56 5.44l.94 2.06.94-2.06 2.06-.94-2.06-.94-.94-2.06-.94 2.06-2.06.94zm-11 1L8.5 8.5l.94-2.06 2.06-.94-2.06-.94L8.5 2.5l-.94 2.06-2.06.94zm10 10l.94 2.06.94-2.06 2.06-.94-2.06-.94-.94-2.06-.94 2.06-2.06.94z\"/><path d=\"M17.41 7.96l-1.37-1.37c-.4-.4-.92-.59-1.43-.59-.52 0-1.04.2-1.43.59L10.3 9.45l-7.72 7.72c-.78.78-.78 2.05 0 2.83L4 21.41c.39.39.9.59 1.41.59.51 0 1.02-.2 1.41-.59l7.78-7.78 2.81-2.81c.8-.78.8-2.07 0-2.86zM5.41 20L4 18.59l7.72-7.72 1.47 1.35L5.41 20z\"/>\n",
              "  </svg>\n",
              "      </button>\n",
              "      \n",
              "  <style>\n",
              "    .colab-df-container {\n",
              "      display:flex;\n",
              "      flex-wrap:wrap;\n",
              "      gap: 12px;\n",
              "    }\n",
              "\n",
              "    .colab-df-convert {\n",
              "      background-color: #E8F0FE;\n",
              "      border: none;\n",
              "      border-radius: 50%;\n",
              "      cursor: pointer;\n",
              "      display: none;\n",
              "      fill: #1967D2;\n",
              "      height: 32px;\n",
              "      padding: 0 0 0 0;\n",
              "      width: 32px;\n",
              "    }\n",
              "\n",
              "    .colab-df-convert:hover {\n",
              "      background-color: #E2EBFA;\n",
              "      box-shadow: 0px 1px 2px rgba(60, 64, 67, 0.3), 0px 1px 3px 1px rgba(60, 64, 67, 0.15);\n",
              "      fill: #174EA6;\n",
              "    }\n",
              "\n",
              "    [theme=dark] .colab-df-convert {\n",
              "      background-color: #3B4455;\n",
              "      fill: #D2E3FC;\n",
              "    }\n",
              "\n",
              "    [theme=dark] .colab-df-convert:hover {\n",
              "      background-color: #434B5C;\n",
              "      box-shadow: 0px 1px 3px 1px rgba(0, 0, 0, 0.15);\n",
              "      filter: drop-shadow(0px 1px 2px rgba(0, 0, 0, 0.3));\n",
              "      fill: #FFFFFF;\n",
              "    }\n",
              "  </style>\n",
              "\n",
              "      <script>\n",
              "        const buttonEl =\n",
              "          document.querySelector('#df-febe1813-025d-4247-b608-449f45492b74 button.colab-df-convert');\n",
              "        buttonEl.style.display =\n",
              "          google.colab.kernel.accessAllowed ? 'block' : 'none';\n",
              "\n",
              "        async function convertToInteractive(key) {\n",
              "          const element = document.querySelector('#df-febe1813-025d-4247-b608-449f45492b74');\n",
              "          const dataTable =\n",
              "            await google.colab.kernel.invokeFunction('convertToInteractive',\n",
              "                                                     [key], {});\n",
              "          if (!dataTable) return;\n",
              "\n",
              "          const docLinkHtml = 'Like what you see? Visit the ' +\n",
              "            '<a target=\"_blank\" href=https://colab.research.google.com/notebooks/data_table.ipynb>data table notebook</a>'\n",
              "            + ' to learn more about interactive tables.';\n",
              "          element.innerHTML = '';\n",
              "          dataTable['output_type'] = 'display_data';\n",
              "          await google.colab.output.renderOutput(dataTable, element);\n",
              "          const docLink = document.createElement('div');\n",
              "          docLink.innerHTML = docLinkHtml;\n",
              "          element.appendChild(docLink);\n",
              "        }\n",
              "      </script>\n",
              "    </div>\n",
              "  </div>\n",
              "  "
            ]
          },
          "metadata": {},
          "execution_count": 24
        }
      ]
    },
    {
      "cell_type": "code",
      "source": [
        "from pyspark.sql import SparkSession "
      ],
      "metadata": {
        "id": "FlfDf0m98ofj"
      },
      "execution_count": null,
      "outputs": []
    },
    {
      "cell_type": "code",
      "source": [
        "spark=SparkSession.builder.appName('Partise').getOrCreate()"
      ],
      "metadata": {
        "id": "Pt0w6NUr8yTG"
      },
      "execution_count": null,
      "outputs": []
    },
    {
      "cell_type": "code",
      "source": [
        "spark"
      ],
      "metadata": {
        "colab": {
          "base_uri": "https://localhost:8080/",
          "height": 219
        },
        "id": "BN0akIgf9H_v",
        "outputId": "b168d30a-b477-4b4c-9f99-3d737dcbd226"
      },
      "execution_count": null,
      "outputs": [
        {
          "output_type": "execute_result",
          "data": {
            "text/plain": [
              "<pyspark.sql.session.SparkSession at 0x7f0b15e128e0>"
            ],
            "text/html": [
              "\n",
              "            <div>\n",
              "                <p><b>SparkSession - in-memory</b></p>\n",
              "                \n",
              "        <div>\n",
              "            <p><b>SparkContext</b></p>\n",
              "\n",
              "            <p><a href=\"http://5254845e1f6a:4040\">Spark UI</a></p>\n",
              "\n",
              "            <dl>\n",
              "              <dt>Version</dt>\n",
              "                <dd><code>v3.3.2</code></dd>\n",
              "              <dt>Master</dt>\n",
              "                <dd><code>local[*]</code></dd>\n",
              "              <dt>AppName</dt>\n",
              "                <dd><code>pyspark-shell</code></dd>\n",
              "            </dl>\n",
              "        </div>\n",
              "        \n",
              "            </div>\n",
              "        "
            ]
          },
          "metadata": {},
          "execution_count": 28
        }
      ]
    },
    {
      "cell_type": "code",
      "source": [
        "df_spark=spark.read.option(\"header\", True).csv('info.csv')\n",
        "df_spark.show()"
      ],
      "metadata": {
        "colab": {
          "base_uri": "https://localhost:8080/"
        },
        "id": "Nju7mApm9XOv",
        "outputId": "68a36775-714e-45ba-9318-123ffc7561d4"
      },
      "execution_count": null,
      "outputs": [
        {
          "output_type": "stream",
          "name": "stdout",
          "text": [
            "+----+---+\n",
            "|Name|Age|\n",
            "+----+---+\n",
            "|   T| 14|\n",
            "|   H| 52|\n",
            "|   D|  7|\n",
            "|   A|  8|\n",
            "|   B| 16|\n",
            "|   N| 45|\n",
            "|   M|  3|\n",
            "|   L| 26|\n",
            "|   K| 64|\n",
            "|   Q| 92|\n",
            "|   S| 19|\n",
            "|   P| 30|\n",
            "|   Y| 29|\n",
            "|   G| 34|\n",
            "+----+---+\n",
            "\n"
          ]
        }
      ]
    },
    {
      "cell_type": "code",
      "source": [
        "df_spark.select('Age').show()"
      ],
      "metadata": {
        "colab": {
          "base_uri": "https://localhost:8080/"
        },
        "id": "0t2XNK_y9hrB",
        "outputId": "4fd20167-b08e-4407-eacf-ad5c79a25fdb"
      },
      "execution_count": null,
      "outputs": [
        {
          "output_type": "stream",
          "name": "stdout",
          "text": [
            "+---+\n",
            "|Age|\n",
            "+---+\n",
            "| 14|\n",
            "| 52|\n",
            "|  7|\n",
            "|  8|\n",
            "| 16|\n",
            "| 45|\n",
            "|  3|\n",
            "| 26|\n",
            "| 64|\n",
            "| 92|\n",
            "| 19|\n",
            "| 30|\n",
            "| 29|\n",
            "| 34|\n",
            "+---+\n",
            "\n"
          ]
        }
      ]
    },
    {
      "cell_type": "code",
      "source": [
        "df_spark.createOrReplaceTempView(\"df_spark\")"
      ],
      "metadata": {
        "id": "4ouLq8RT_P1u"
      },
      "execution_count": null,
      "outputs": []
    },
    {
      "cell_type": "code",
      "source": [
        "!wget https://raw.githubusercontent.com/demanejar/retails/master/resources/retails.csv"
      ],
      "metadata": {
        "colab": {
          "base_uri": "https://localhost:8080/"
        },
        "id": "JOkw2RqrGARr",
        "outputId": "359b2f32-e78b-431b-a19d-ee146577448c"
      },
      "execution_count": 63,
      "outputs": [
        {
          "output_type": "stream",
          "name": "stdout",
          "text": [
            "--2023-04-05 16:12:32--  https://raw.githubusercontent.com/demanejar/retails/master/resources/retails.csv\n",
            "Resolving raw.githubusercontent.com (raw.githubusercontent.com)... 185.199.111.133, 185.199.110.133, 185.199.109.133, ...\n",
            "Connecting to raw.githubusercontent.com (raw.githubusercontent.com)|185.199.111.133|:443... connected.\n",
            "HTTP request sent, awaiting response... 200 OK\n",
            "Length: 43954909 (42M) [text/plain]\n",
            "Saving to: ‘retails.csv’\n",
            "\n",
            "retails.csv         100%[===================>]  41.92M   264MB/s    in 0.2s    \n",
            "\n",
            "2023-04-05 16:12:33 (264 MB/s) - ‘retails.csv’ saved [43954909/43954909]\n",
            "\n"
          ]
        }
      ]
    },
    {
      "cell_type": "code",
      "source": [
        "df=SparkSession.builder.appName('Part1').getOrCreate()\n",
        "df=df.read.option('header', True).csv('retails.csv')\n",
        "df.show()"
      ],
      "metadata": {
        "colab": {
          "base_uri": "https://localhost:8080/"
        },
        "id": "brjmY95-MpU7",
        "outputId": "00088dde-c030-4c86-beac-84e4c6d1d53a"
      },
      "execution_count": 118,
      "outputs": [
        {
          "output_type": "stream",
          "name": "stdout",
          "text": [
            "+---------+---------+--------------------+--------+------------+---------+----------+--------------+\n",
            "|InvoiceNo|StockCode|         Description|Quantity| InvoiceDate|UnitPrice|CustomerID|       Country|\n",
            "+---------+---------+--------------------+--------+------------+---------+----------+--------------+\n",
            "|   536365|   85123A|WHITE HANGING HEA...|       6|12/1/10 8:26|     2.55|     17850|United Kingdom|\n",
            "|   536365|    71053| WHITE METAL LANTERN|       6|12/1/10 8:26|     3.39|     17850|United Kingdom|\n",
            "|   536365|   84406B|CREAM CUPID HEART...|       8|12/1/10 8:26|     2.75|     17850|United Kingdom|\n",
            "|   536365|   84029G|KNITTED UNION FLA...|       6|12/1/10 8:26|     3.39|     17850|United Kingdom|\n",
            "|   536365|   84029E|RED WOOLLY HOTTIE...|       6|12/1/10 8:26|     3.39|     17850|United Kingdom|\n",
            "|   536365|    22752|SET 7 BABUSHKA NE...|       2|12/1/10 8:26|     7.65|     17850|United Kingdom|\n",
            "|   536365|    21730|GLASS STAR FROSTE...|       6|12/1/10 8:26|     4.25|     17850|United Kingdom|\n",
            "|   536366|    22633|HAND WARMER UNION...|       6|12/1/10 8:28|     1.85|     17850|United Kingdom|\n",
            "|   536366|    22632|HAND WARMER RED P...|       6|12/1/10 8:28|     1.85|     17850|United Kingdom|\n",
            "|   536367|    84879|ASSORTED COLOUR B...|      32|12/1/10 8:34|     1.69|     13047|United Kingdom|\n",
            "|   536367|    22745|POPPY'S PLAYHOUSE...|       6|12/1/10 8:34|      2.1|     13047|United Kingdom|\n",
            "|   536367|    22748|POPPY'S PLAYHOUSE...|       6|12/1/10 8:34|      2.1|     13047|United Kingdom|\n",
            "|   536367|    22749|FELTCRAFT PRINCES...|       8|12/1/10 8:34|     3.75|     13047|United Kingdom|\n",
            "|   536367|    22310|IVORY KNITTED MUG...|       6|12/1/10 8:34|     1.65|     13047|United Kingdom|\n",
            "|   536367|    84969|BOX OF 6 ASSORTED...|       6|12/1/10 8:34|     4.25|     13047|United Kingdom|\n",
            "|   536367|    22623|BOX OF VINTAGE JI...|       3|12/1/10 8:34|     4.95|     13047|United Kingdom|\n",
            "|   536367|    22622|BOX OF VINTAGE AL...|       2|12/1/10 8:34|     9.95|     13047|United Kingdom|\n",
            "|   536367|    21754|HOME BUILDING BLO...|       3|12/1/10 8:34|     5.95|     13047|United Kingdom|\n",
            "|   536367|    21755|LOVE BUILDING BLO...|       3|12/1/10 8:34|     5.95|     13047|United Kingdom|\n",
            "|   536367|    21777|RECIPE BOX WITH M...|       4|12/1/10 8:34|     7.95|     13047|United Kingdom|\n",
            "+---------+---------+--------------------+--------+------------+---------+----------+--------------+\n",
            "only showing top 20 rows\n",
            "\n"
          ]
        }
      ]
    },
    {
      "cell_type": "markdown",
      "source": [
        "Part 1\n",
        "\n",
        "Câu hỏi: Có tổng bao nhiêu giao dịch, sản phẩm và khách hàng khác nhau?"
      ],
      "metadata": {
        "id": "Ig4bHiDNOXte"
      }
    },
    {
      "cell_type": "code",
      "source": [
        "flag=df.select(\"CustomerID\").distinct().count()-1\n",
        "print(\"Khách hàng : \", flag)"
      ],
      "metadata": {
        "colab": {
          "base_uri": "https://localhost:8080/"
        },
        "id": "jL3ocL2sM89Y",
        "outputId": "22015bf1-0949-4f81-beec-57e4dc4159a1"
      },
      "execution_count": 165,
      "outputs": [
        {
          "output_type": "stream",
          "name": "stdout",
          "text": [
            "Khách hàng :  4372\n"
          ]
        }
      ]
    },
    {
      "cell_type": "code",
      "source": [
        "flag=df.select(\"StockCode\").distinct().count()\n",
        "print(\"Sản phẩm : \", flag)"
      ],
      "metadata": {
        "colab": {
          "base_uri": "https://localhost:8080/"
        },
        "id": "kPpqeQUCOaY0",
        "outputId": "196a2cd9-ded9-4858-a1b1-72b6aac66407"
      },
      "execution_count": 166,
      "outputs": [
        {
          "output_type": "stream",
          "name": "stdout",
          "text": [
            "Sản phẩm :  4070\n"
          ]
        }
      ]
    },
    {
      "cell_type": "code",
      "source": [
        "flag=df.select(\"InvoiceNo\").distinct().count()\n",
        "print(\"Giao dịch : \", flag)"
      ],
      "metadata": {
        "colab": {
          "base_uri": "https://localhost:8080/"
        },
        "id": "SmeTUgVlOsxj",
        "outputId": "9ae3b275-f8fb-4943-a149-0aedbec2f971"
      },
      "execution_count": 167,
      "outputs": [
        {
          "output_type": "stream",
          "name": "stdout",
          "text": [
            "Giao dịch :  25900\n"
          ]
        }
      ]
    },
    {
      "cell_type": "code",
      "source": [
        "from pyspark.sql.functions import countDistinct\n",
        "\n",
        "# Đếm số lượng giao dịch khác nhau\n",
        "num_transactions = df.select(countDistinct('InvoiceNo')).collect()[0][0]\n",
        "\n",
        "# Đếm số lượng sản phẩm khác nhau\n",
        "num_products = df.select(countDistinct('StockCode')).collect()[0][0]\n",
        "\n",
        "# Đếm số lượng khách hàng khác nhau\n",
        "num_customers = df.select(countDistinct('CustomerID')).collect()[0][0]\n",
        "\n",
        "print(f\"Tổng số giao dịch: {num_transactions}\")\n",
        "print(f\"Tổng số sản phẩm: {num_products}\")\n",
        "print(f\"Tổng số khách hàng: {num_customers}\")"
      ],
      "metadata": {
        "colab": {
          "base_uri": "https://localhost:8080/"
        },
        "id": "HkqPgWP6x1TU",
        "outputId": "b73d7959-0910-4535-be7a-4484670c3362"
      },
      "execution_count": 226,
      "outputs": [
        {
          "output_type": "stream",
          "name": "stdout",
          "text": [
            "Tổng số giao dịch: 25900\n",
            "Tổng số sản phẩm: 4070\n",
            "Tổng số khách hàng: 4372\n"
          ]
        }
      ]
    },
    {
      "cell_type": "markdown",
      "source": [
        "Part 2\n",
        "\n",
        "Câu hỏi: Tỉ lệ khách hàng không có thông *tin*"
      ],
      "metadata": {
        "id": "F2rScJfDPQqp"
      }
    },
    {
      "cell_type": "code",
      "source": [
        "flag =df.select(\"CustomerID\").filter(df[\"CustomerID\"].isNull()).count()/float(df.select(\"CustomerID\").distinct().count())\n",
        "print(\"Tỉ lệ khách hàng không có thông tin : \", flag)"
      ],
      "metadata": {
        "colab": {
          "base_uri": "https://localhost:8080/"
        },
        "id": "5VuqkG3-PTb1",
        "outputId": "39cb50e7-b0b5-40ae-ef11-8b297cf101ea"
      },
      "execution_count": 224,
      "outputs": [
        {
          "output_type": "stream",
          "name": "stdout",
          "text": [
            "Tỉ lệ khách hàng không có thông tin :  30.889549508346672\n"
          ]
        }
      ]
    },
    {
      "cell_type": "markdown",
      "source": [
        "Part 3\n",
        "\n",
        "Câu hỏi: Đâu là nước có số lượng đơn hàng (Quantity) nhiều thứ 3?"
      ],
      "metadata": {
        "id": "Ul2VrO6YVX7E"
      }
    },
    {
      "cell_type": "code",
      "source": [
        "df=df.withColumn('Quantity', df['Quantity'].cast('int'))\n",
        "df.groupBy('Country').sum('Quantity').sort('sum(Quantity)',ascending=False).show()"
      ],
      "metadata": {
        "colab": {
          "base_uri": "https://localhost:8080/"
        },
        "id": "JVXZKLVaVY9U",
        "outputId": "71f65b66-ee21-4c6c-8117-7e8d4ecff60b"
      },
      "execution_count": 159,
      "outputs": [
        {
          "output_type": "stream",
          "name": "stdout",
          "text": [
            "+---------------+-------------+\n",
            "|        Country|sum(Quantity)|\n",
            "+---------------+-------------+\n",
            "| United Kingdom|      4263829|\n",
            "|    Netherlands|       200128|\n",
            "|           EIRE|       142637|\n",
            "|        Germany|       117448|\n",
            "|         France|       110480|\n",
            "|      Australia|        83653|\n",
            "|         Sweden|        35637|\n",
            "|    Switzerland|        30325|\n",
            "|          Spain|        26824|\n",
            "|          Japan|        25218|\n",
            "|        Belgium|        23152|\n",
            "|         Norway|        19247|\n",
            "|       Portugal|        16180|\n",
            "|        Finland|        10666|\n",
            "|Channel Islands|         9479|\n",
            "|        Denmark|         8188|\n",
            "|          Italy|         7999|\n",
            "|         Cyprus|         6317|\n",
            "|      Singapore|         5234|\n",
            "|        Austria|         4827|\n",
            "+---------------+-------------+\n",
            "only showing top 20 rows\n",
            "\n"
          ]
        }
      ]
    },
    {
      "cell_type": "code",
      "source": [
        "flag = df.groupBy('Country').sum('Quantity').sort('sum(Quantity)',ascending=False).select('Country').take(3)\n",
        "print(\"Nước có số lượng đơn hàng (Quantity) nhiều thứ 3 : \",flag[2])"
      ],
      "metadata": {
        "colab": {
          "base_uri": "https://localhost:8080/"
        },
        "id": "9Fhg7RD4ZhG6",
        "outputId": "b66813c9-108d-48a4-d0a4-e12a1b0290c6"
      },
      "execution_count": 163,
      "outputs": [
        {
          "output_type": "stream",
          "name": "stdout",
          "text": [
            "Nước có số lượng đơn hàng (Quantity) nhiều thứ 3 :  Row(Country='EIRE')\n"
          ]
        }
      ]
    },
    {
      "cell_type": "markdown",
      "source": [
        "Part 4\n",
        "\n",
        "Câu hỏi: Từ nào xuất hiện ít và nhiều nhất trong phần Description?"
      ],
      "metadata": {
        "id": "n7emSjnNiATj"
      }
    },
    {
      "cell_type": "code",
      "source": [
        "import collections\n",
        "from pyspark import SparkContext\n",
        "from pyspark.sql.functions import desc\n",
        "\n",
        "flag=df.groupBy('Description').count().orderBy('count')\n",
        "least_common_word = flag.first()['Description']\n",
        "print(\"Từ xuất hiện ít nhất là:\", least_common_word)\n",
        "flag=df.groupBy('Description').count().orderBy(desc('count'))\n",
        "most_common_word = flag.first()['Description']\n",
        "print(\"Từ xuất hiện nhiều nhất trong phần Description là:\", most_common_word)"
      ],
      "metadata": {
        "colab": {
          "base_uri": "https://localhost:8080/"
        },
        "id": "bSf61UZtgs9h",
        "outputId": "ca114acb-e00c-40ba-cfb5-b20e049d6318"
      },
      "execution_count": 215,
      "outputs": [
        {
          "output_type": "stream",
          "name": "stdout",
          "text": [
            "Từ xuất hiện ít nhất là: PINK BOUDOIR T-LIGHT HOLDER\n",
            "Từ xuất hiện nhiều nhất trong phần Description là: WHITE HANGING HEART T-LIGHT HOLDER\n"
          ]
        }
      ]
    },
    {
      "cell_type": "markdown",
      "source": [
        "Part 5\n",
        "\n",
        "Câu hỏi: Sản phẩm nào bán được số lượng (Quantity) lớn nhất ở United Kingdom?"
      ],
      "metadata": {
        "id": "wWsO1fcPvC3y"
      }
    },
    {
      "cell_type": "code",
      "source": [
        "UK = df.filter(df.Country == 'United Kingdom')\n",
        "product = UK.groupBy('StockCode').sum('Quantity')\n",
        "sort_sum = product.sort('sum(Quantity)', ascending=False)\n",
        "most_sold_product = sort_sum.first()['StockCode']\n",
        "name = df.filter(df.StockCode == most_sold_product).select('Description').distinct().collect()[0]['Description']\n",
        "print('Sản phẩm bán được số lượng lớn nhất ở United Kingdom là : ', name)"
      ],
      "metadata": {
        "colab": {
          "base_uri": "https://localhost:8080/"
        },
        "id": "n0gR4JaLvFL5",
        "outputId": "742b0718-7289-4238-8f1d-6a8d51db90c1"
      },
      "execution_count": 220,
      "outputs": [
        {
          "output_type": "stream",
          "name": "stdout",
          "text": [
            "Sản phẩm bán được số lượng lớn nhất ở United Kingdom là :  POPCORN HOLDER\n"
          ]
        }
      ]
    }
  ]
}